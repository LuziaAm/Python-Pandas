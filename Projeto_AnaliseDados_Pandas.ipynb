{
  "nbformat": 4,
  "nbformat_minor": 0,
  "metadata": {
    "colab": {
      "name": "Projeto_AnaliseDados_Pandas",
      "provenance": [],
      "collapsed_sections": [],
      "authorship_tag": "ABX9TyNq5YcBPIe3KkS4M2L9kGZP",
      "include_colab_link": true
    },
    "kernelspec": {
      "name": "python3",
      "display_name": "Python 3"
    },
    "language_info": {
      "name": "python"
    }
  },
  "cells": [
    {
      "cell_type": "markdown",
      "metadata": {
        "id": "view-in-github",
        "colab_type": "text"
      },
      "source": [
        "<a href=\"https://colab.research.google.com/github/LuziaAm/Python-Pandas/blob/main/Projeto_AnaliseDados_Pandas.ipynb\" target=\"_parent\"><img src=\"https://colab.research.google.com/assets/colab-badge.svg\" alt=\"Open In Colab\"/></a>"
      ]
    },
    {
      "cell_type": "code",
      "metadata": {
        "id": "kRFz3i_VaTPk"
      },
      "source": [
        "import pandas as pd"
      ],
      "execution_count": 206,
      "outputs": []
    },
    {
      "cell_type": "code",
      "metadata": {
        "id": "Nbw2QWWwakjT"
      },
      "source": [
        "df = pd.read_csv(\"supermarket_sales - Sheet1.csv\")"
      ],
      "execution_count": 207,
      "outputs": []
    },
    {
      "cell_type": "code",
      "metadata": {
        "colab": {
          "base_uri": "https://localhost:8080/",
          "height": 343
        },
        "id": "Y9krmP_8bAX4",
        "outputId": "463c7ab1-28d1-4dff-e118-2d1b718e7b95"
      },
      "source": [
        "df.head(5)"
      ],
      "execution_count": 208,
      "outputs": [
        {
          "output_type": "execute_result",
          "data": {
            "text/html": [
              "<div>\n",
              "<style scoped>\n",
              "    .dataframe tbody tr th:only-of-type {\n",
              "        vertical-align: middle;\n",
              "    }\n",
              "\n",
              "    .dataframe tbody tr th {\n",
              "        vertical-align: top;\n",
              "    }\n",
              "\n",
              "    .dataframe thead th {\n",
              "        text-align: right;\n",
              "    }\n",
              "</style>\n",
              "<table border=\"1\" class=\"dataframe\">\n",
              "  <thead>\n",
              "    <tr style=\"text-align: right;\">\n",
              "      <th></th>\n",
              "      <th>Invoice ID</th>\n",
              "      <th>Branch</th>\n",
              "      <th>City</th>\n",
              "      <th>Customer type</th>\n",
              "      <th>Gender</th>\n",
              "      <th>Product line</th>\n",
              "      <th>Unit price</th>\n",
              "      <th>Quantity</th>\n",
              "      <th>Tax 5%</th>\n",
              "      <th>Total</th>\n",
              "      <th>Date</th>\n",
              "      <th>Time</th>\n",
              "      <th>Payment</th>\n",
              "      <th>cogs</th>\n",
              "      <th>gross margin percentage</th>\n",
              "      <th>gross income</th>\n",
              "      <th>Rating</th>\n",
              "    </tr>\n",
              "  </thead>\n",
              "  <tbody>\n",
              "    <tr>\n",
              "      <th>0</th>\n",
              "      <td>750-67-8428</td>\n",
              "      <td>A</td>\n",
              "      <td>Yangon</td>\n",
              "      <td>Member</td>\n",
              "      <td>Female</td>\n",
              "      <td>Health and beauty</td>\n",
              "      <td>74.69</td>\n",
              "      <td>7</td>\n",
              "      <td>26.14</td>\n",
              "      <td>548.97</td>\n",
              "      <td>1/5/2019</td>\n",
              "      <td>13:08</td>\n",
              "      <td>Ewallet</td>\n",
              "      <td>522.83</td>\n",
              "      <td>4.76</td>\n",
              "      <td>26.14</td>\n",
              "      <td>9.10</td>\n",
              "    </tr>\n",
              "    <tr>\n",
              "      <th>1</th>\n",
              "      <td>226-31-3081</td>\n",
              "      <td>C</td>\n",
              "      <td>Naypyitaw</td>\n",
              "      <td>Normal</td>\n",
              "      <td>Female</td>\n",
              "      <td>Electronic accessories</td>\n",
              "      <td>15.28</td>\n",
              "      <td>5</td>\n",
              "      <td>3.82</td>\n",
              "      <td>80.22</td>\n",
              "      <td>3/8/2019</td>\n",
              "      <td>10:29</td>\n",
              "      <td>Cash</td>\n",
              "      <td>76.40</td>\n",
              "      <td>4.76</td>\n",
              "      <td>3.82</td>\n",
              "      <td>9.60</td>\n",
              "    </tr>\n",
              "    <tr>\n",
              "      <th>2</th>\n",
              "      <td>631-41-3108</td>\n",
              "      <td>A</td>\n",
              "      <td>Yangon</td>\n",
              "      <td>Normal</td>\n",
              "      <td>Male</td>\n",
              "      <td>Home and lifestyle</td>\n",
              "      <td>46.33</td>\n",
              "      <td>7</td>\n",
              "      <td>16.22</td>\n",
              "      <td>340.53</td>\n",
              "      <td>3/3/2019</td>\n",
              "      <td>13:23</td>\n",
              "      <td>Credit card</td>\n",
              "      <td>324.31</td>\n",
              "      <td>4.76</td>\n",
              "      <td>16.22</td>\n",
              "      <td>7.40</td>\n",
              "    </tr>\n",
              "    <tr>\n",
              "      <th>3</th>\n",
              "      <td>123-19-1176</td>\n",
              "      <td>A</td>\n",
              "      <td>Yangon</td>\n",
              "      <td>Member</td>\n",
              "      <td>Male</td>\n",
              "      <td>Health and beauty</td>\n",
              "      <td>58.22</td>\n",
              "      <td>8</td>\n",
              "      <td>23.29</td>\n",
              "      <td>489.05</td>\n",
              "      <td>1/27/2019</td>\n",
              "      <td>20:33</td>\n",
              "      <td>Ewallet</td>\n",
              "      <td>465.76</td>\n",
              "      <td>4.76</td>\n",
              "      <td>23.29</td>\n",
              "      <td>8.40</td>\n",
              "    </tr>\n",
              "    <tr>\n",
              "      <th>4</th>\n",
              "      <td>373-73-7910</td>\n",
              "      <td>A</td>\n",
              "      <td>Yangon</td>\n",
              "      <td>Normal</td>\n",
              "      <td>Male</td>\n",
              "      <td>Sports and travel</td>\n",
              "      <td>86.31</td>\n",
              "      <td>7</td>\n",
              "      <td>30.21</td>\n",
              "      <td>634.38</td>\n",
              "      <td>2/8/2019</td>\n",
              "      <td>10:37</td>\n",
              "      <td>Ewallet</td>\n",
              "      <td>604.17</td>\n",
              "      <td>4.76</td>\n",
              "      <td>30.21</td>\n",
              "      <td>5.30</td>\n",
              "    </tr>\n",
              "  </tbody>\n",
              "</table>\n",
              "</div>"
            ],
            "text/plain": [
              "    Invoice ID Branch  ...         gross income               Rating\n",
              "0  750-67-8428      A  ...                26.14                 9.10\n",
              "1  226-31-3081      C  ...                 3.82                 9.60\n",
              "2  631-41-3108      A  ...                16.22                 7.40\n",
              "3  123-19-1176      A  ...                23.29                 8.40\n",
              "4  373-73-7910      A  ...                30.21                 5.30\n",
              "\n",
              "[5 rows x 17 columns]"
            ]
          },
          "metadata": {},
          "execution_count": 208
        }
      ]
    },
    {
      "cell_type": "code",
      "metadata": {
        "id": "zWGQp4zNbVia"
      },
      "source": [
        "#Renomeando as Colunas\n",
        "df = df.rename(columns={\"Invoice ID\":\"ID Fatura\",\"Branch\":\"Fatura\",\"City\":\"Cidade\",\"Customer type\":\"Tipo Cliente\",\"Gender\":\"Gênero\",\"Product line\":\"Linha Produto\",\"Unit price\":\"Preço Unit\",\"Quantity\":\"Quantidade\",\"Date\":\"Data\",\"Time\":\"Tempo\",\"Payment\":\"Forma_Pagamento\",\"gross margin percentage\":\"Porcentagem Margem Bruta\",\"gross income\":\"Renda Bruta\",\"Rating\":\"Avaliação\"})"
      ],
      "execution_count": 209,
      "outputs": []
    },
    {
      "cell_type": "code",
      "metadata": {
        "colab": {
          "base_uri": "https://localhost:8080/",
          "height": 151
        },
        "id": "TdgEFe6udlQw",
        "outputId": "3754f8fa-b3e1-4bca-c759-168ae7f96987"
      },
      "source": [
        "df.sample()"
      ],
      "execution_count": 210,
      "outputs": [
        {
          "output_type": "execute_result",
          "data": {
            "text/html": [
              "<div>\n",
              "<style scoped>\n",
              "    .dataframe tbody tr th:only-of-type {\n",
              "        vertical-align: middle;\n",
              "    }\n",
              "\n",
              "    .dataframe tbody tr th {\n",
              "        vertical-align: top;\n",
              "    }\n",
              "\n",
              "    .dataframe thead th {\n",
              "        text-align: right;\n",
              "    }\n",
              "</style>\n",
              "<table border=\"1\" class=\"dataframe\">\n",
              "  <thead>\n",
              "    <tr style=\"text-align: right;\">\n",
              "      <th></th>\n",
              "      <th>ID Fatura</th>\n",
              "      <th>Fatura</th>\n",
              "      <th>Cidade</th>\n",
              "      <th>Tipo Cliente</th>\n",
              "      <th>Gênero</th>\n",
              "      <th>Linha Produto</th>\n",
              "      <th>Preço Unit</th>\n",
              "      <th>Quantidade</th>\n",
              "      <th>Tax 5%</th>\n",
              "      <th>Total</th>\n",
              "      <th>Data</th>\n",
              "      <th>Tempo</th>\n",
              "      <th>Forma_Pagamento</th>\n",
              "      <th>cogs</th>\n",
              "      <th>Porcentagem Margem Bruta</th>\n",
              "      <th>Renda Bruta</th>\n",
              "      <th>Avaliação</th>\n",
              "    </tr>\n",
              "  </thead>\n",
              "  <tbody>\n",
              "    <tr>\n",
              "      <th>497</th>\n",
              "      <td>862-59-8517</td>\n",
              "      <td>C</td>\n",
              "      <td>Naypyitaw</td>\n",
              "      <td>Normal</td>\n",
              "      <td>Female</td>\n",
              "      <td>Food and beverages</td>\n",
              "      <td>90.24</td>\n",
              "      <td>6</td>\n",
              "      <td>27.07</td>\n",
              "      <td>568.51</td>\n",
              "      <td>1/27/2019</td>\n",
              "      <td>11:17</td>\n",
              "      <td>Cash</td>\n",
              "      <td>541.44</td>\n",
              "      <td>4.76</td>\n",
              "      <td>27.07</td>\n",
              "      <td>6.20</td>\n",
              "    </tr>\n",
              "  </tbody>\n",
              "</table>\n",
              "</div>"
            ],
            "text/plain": [
              "       ID Fatura Fatura  ...          Renda Bruta            Avaliação\n",
              "497  862-59-8517      C  ...                27.07                 6.20\n",
              "\n",
              "[1 rows x 17 columns]"
            ]
          },
          "metadata": {},
          "execution_count": 210
        }
      ]
    },
    {
      "cell_type": "code",
      "metadata": {
        "colab": {
          "base_uri": "https://localhost:8080/"
        },
        "id": "_lXEPtebd6rx",
        "outputId": "d755f557-871d-47c5-ea44-40b568781194"
      },
      "source": [
        "df.shape"
      ],
      "execution_count": 211,
      "outputs": [
        {
          "output_type": "execute_result",
          "data": {
            "text/plain": [
              "(1000, 17)"
            ]
          },
          "metadata": {},
          "execution_count": 211
        }
      ]
    },
    {
      "cell_type": "code",
      "metadata": {
        "colab": {
          "base_uri": "https://localhost:8080/"
        },
        "id": "zup2e27WeBDo",
        "outputId": "a9a7baaa-277f-4380-d87f-4b0edbe9d29f"
      },
      "source": [
        "df.columns"
      ],
      "execution_count": 212,
      "outputs": [
        {
          "output_type": "execute_result",
          "data": {
            "text/plain": [
              "Index(['ID Fatura', 'Fatura', 'Cidade', 'Tipo Cliente', 'Gênero',\n",
              "       'Linha Produto', 'Preço Unit', 'Quantidade', 'Tax 5%', 'Total', 'Data',\n",
              "       'Tempo', 'Forma_Pagamento', 'cogs', 'Porcentagem Margem Bruta',\n",
              "       'Renda Bruta', 'Avaliação'],\n",
              "      dtype='object')"
            ]
          },
          "metadata": {},
          "execution_count": 212
        }
      ]
    },
    {
      "cell_type": "code",
      "metadata": {
        "colab": {
          "base_uri": "https://localhost:8080/"
        },
        "id": "zvOIGx0xeEAR",
        "outputId": "d46dfdaa-329f-4815-cd0e-012cfbb10a54"
      },
      "source": [
        "df.dtypes"
      ],
      "execution_count": 213,
      "outputs": [
        {
          "output_type": "execute_result",
          "data": {
            "text/plain": [
              "ID Fatura                    object\n",
              "Fatura                       object\n",
              "Cidade                       object\n",
              "Tipo Cliente                 object\n",
              "Gênero                       object\n",
              "Linha Produto                object\n",
              "Preço Unit                  float64\n",
              "Quantidade                    int64\n",
              "Tax 5%                      float64\n",
              "Total                       float64\n",
              "Data                         object\n",
              "Tempo                        object\n",
              "Forma_Pagamento              object\n",
              "cogs                        float64\n",
              "Porcentagem Margem Bruta    float64\n",
              "Renda Bruta                 float64\n",
              "Avaliação                   float64\n",
              "dtype: object"
            ]
          },
          "metadata": {},
          "execution_count": 213
        }
      ]
    },
    {
      "cell_type": "code",
      "metadata": {
        "colab": {
          "base_uri": "https://localhost:8080/",
          "height": 297
        },
        "id": "8T-0I2lfeuqa",
        "outputId": "57aa3e19-44a7-4542-d56d-1c1c6cb5ea0d"
      },
      "source": [
        "df.describe()"
      ],
      "execution_count": 214,
      "outputs": [
        {
          "output_type": "execute_result",
          "data": {
            "text/html": [
              "<div>\n",
              "<style scoped>\n",
              "    .dataframe tbody tr th:only-of-type {\n",
              "        vertical-align: middle;\n",
              "    }\n",
              "\n",
              "    .dataframe tbody tr th {\n",
              "        vertical-align: top;\n",
              "    }\n",
              "\n",
              "    .dataframe thead th {\n",
              "        text-align: right;\n",
              "    }\n",
              "</style>\n",
              "<table border=\"1\" class=\"dataframe\">\n",
              "  <thead>\n",
              "    <tr style=\"text-align: right;\">\n",
              "      <th></th>\n",
              "      <th>Preço Unit</th>\n",
              "      <th>Quantidade</th>\n",
              "      <th>Tax 5%</th>\n",
              "      <th>Total</th>\n",
              "      <th>cogs</th>\n",
              "      <th>Porcentagem Margem Bruta</th>\n",
              "      <th>Renda Bruta</th>\n",
              "      <th>Avaliação</th>\n",
              "    </tr>\n",
              "  </thead>\n",
              "  <tbody>\n",
              "    <tr>\n",
              "      <th>count</th>\n",
              "      <td>1,000.00</td>\n",
              "      <td>1,000.00</td>\n",
              "      <td>1,000.00</td>\n",
              "      <td>1,000.00</td>\n",
              "      <td>1,000.00</td>\n",
              "      <td>1,000.00</td>\n",
              "      <td>1,000.00</td>\n",
              "      <td>1,000.00</td>\n",
              "    </tr>\n",
              "    <tr>\n",
              "      <th>mean</th>\n",
              "      <td>55.67</td>\n",
              "      <td>5.51</td>\n",
              "      <td>15.38</td>\n",
              "      <td>322.97</td>\n",
              "      <td>307.59</td>\n",
              "      <td>4.76</td>\n",
              "      <td>15.38</td>\n",
              "      <td>6.97</td>\n",
              "    </tr>\n",
              "    <tr>\n",
              "      <th>std</th>\n",
              "      <td>26.49</td>\n",
              "      <td>2.92</td>\n",
              "      <td>11.71</td>\n",
              "      <td>245.89</td>\n",
              "      <td>234.18</td>\n",
              "      <td>0.00</td>\n",
              "      <td>11.71</td>\n",
              "      <td>1.72</td>\n",
              "    </tr>\n",
              "    <tr>\n",
              "      <th>min</th>\n",
              "      <td>10.08</td>\n",
              "      <td>1.00</td>\n",
              "      <td>0.51</td>\n",
              "      <td>10.68</td>\n",
              "      <td>10.17</td>\n",
              "      <td>4.76</td>\n",
              "      <td>0.51</td>\n",
              "      <td>4.00</td>\n",
              "    </tr>\n",
              "    <tr>\n",
              "      <th>25%</th>\n",
              "      <td>32.88</td>\n",
              "      <td>3.00</td>\n",
              "      <td>5.92</td>\n",
              "      <td>124.42</td>\n",
              "      <td>118.50</td>\n",
              "      <td>4.76</td>\n",
              "      <td>5.92</td>\n",
              "      <td>5.50</td>\n",
              "    </tr>\n",
              "    <tr>\n",
              "      <th>50%</th>\n",
              "      <td>55.23</td>\n",
              "      <td>5.00</td>\n",
              "      <td>12.09</td>\n",
              "      <td>253.85</td>\n",
              "      <td>241.76</td>\n",
              "      <td>4.76</td>\n",
              "      <td>12.09</td>\n",
              "      <td>7.00</td>\n",
              "    </tr>\n",
              "    <tr>\n",
              "      <th>75%</th>\n",
              "      <td>77.94</td>\n",
              "      <td>8.00</td>\n",
              "      <td>22.45</td>\n",
              "      <td>471.35</td>\n",
              "      <td>448.91</td>\n",
              "      <td>4.76</td>\n",
              "      <td>22.45</td>\n",
              "      <td>8.50</td>\n",
              "    </tr>\n",
              "    <tr>\n",
              "      <th>max</th>\n",
              "      <td>99.96</td>\n",
              "      <td>10.00</td>\n",
              "      <td>49.65</td>\n",
              "      <td>1,042.65</td>\n",
              "      <td>993.00</td>\n",
              "      <td>4.76</td>\n",
              "      <td>49.65</td>\n",
              "      <td>10.00</td>\n",
              "    </tr>\n",
              "  </tbody>\n",
              "</table>\n",
              "</div>"
            ],
            "text/plain": [
              "                Preço Unit  ...            Avaliação\n",
              "count             1,000.00  ...             1,000.00\n",
              "mean                 55.67  ...                 6.97\n",
              "std                  26.49  ...                 1.72\n",
              "min                  10.08  ...                 4.00\n",
              "25%                  32.88  ...                 5.50\n",
              "50%                  55.23  ...                 7.00\n",
              "75%                  77.94  ...                 8.50\n",
              "max                  99.96  ...                10.00\n",
              "\n",
              "[8 rows x 8 columns]"
            ]
          },
          "metadata": {},
          "execution_count": 214
        }
      ]
    },
    {
      "cell_type": "code",
      "metadata": {
        "colab": {
          "base_uri": "https://localhost:8080/"
        },
        "id": "tv3b1nf3fSM1",
        "outputId": "b6d97b6c-58fa-45eb-8f0a-ec5d4c9bfa99"
      },
      "source": [
        "df[\"Cidade\"].unique()#Valores Unicos de Cidades"
      ],
      "execution_count": 215,
      "outputs": [
        {
          "output_type": "execute_result",
          "data": {
            "text/plain": [
              "array(['Yangon', 'Naypyitaw', 'Mandalay'], dtype=object)"
            ]
          },
          "metadata": {},
          "execution_count": 215
        }
      ]
    },
    {
      "cell_type": "code",
      "metadata": {
        "colab": {
          "base_uri": "https://localhost:8080/",
          "height": 343
        },
        "id": "LwUM2TJgfZhj",
        "outputId": "236b7548-fd87-4bf1-9af0-86e1e533c77a"
      },
      "source": [
        "Yangon = df.loc[df[\"Cidade\"] == \"Yangon\"] #Filtro da Cidade\n",
        "Yangon.sample(5)"
      ],
      "execution_count": 216,
      "outputs": [
        {
          "output_type": "execute_result",
          "data": {
            "text/html": [
              "<div>\n",
              "<style scoped>\n",
              "    .dataframe tbody tr th:only-of-type {\n",
              "        vertical-align: middle;\n",
              "    }\n",
              "\n",
              "    .dataframe tbody tr th {\n",
              "        vertical-align: top;\n",
              "    }\n",
              "\n",
              "    .dataframe thead th {\n",
              "        text-align: right;\n",
              "    }\n",
              "</style>\n",
              "<table border=\"1\" class=\"dataframe\">\n",
              "  <thead>\n",
              "    <tr style=\"text-align: right;\">\n",
              "      <th></th>\n",
              "      <th>ID Fatura</th>\n",
              "      <th>Fatura</th>\n",
              "      <th>Cidade</th>\n",
              "      <th>Tipo Cliente</th>\n",
              "      <th>Gênero</th>\n",
              "      <th>Linha Produto</th>\n",
              "      <th>Preço Unit</th>\n",
              "      <th>Quantidade</th>\n",
              "      <th>Tax 5%</th>\n",
              "      <th>Total</th>\n",
              "      <th>Data</th>\n",
              "      <th>Tempo</th>\n",
              "      <th>Forma_Pagamento</th>\n",
              "      <th>cogs</th>\n",
              "      <th>Porcentagem Margem Bruta</th>\n",
              "      <th>Renda Bruta</th>\n",
              "      <th>Avaliação</th>\n",
              "    </tr>\n",
              "  </thead>\n",
              "  <tbody>\n",
              "    <tr>\n",
              "      <th>732</th>\n",
              "      <td>756-49-0168</td>\n",
              "      <td>A</td>\n",
              "      <td>Yangon</td>\n",
              "      <td>Member</td>\n",
              "      <td>Male</td>\n",
              "      <td>Fashion accessories</td>\n",
              "      <td>19.70</td>\n",
              "      <td>1</td>\n",
              "      <td>0.98</td>\n",
              "      <td>20.68</td>\n",
              "      <td>2/8/2019</td>\n",
              "      <td>11:39</td>\n",
              "      <td>Ewallet</td>\n",
              "      <td>19.70</td>\n",
              "      <td>4.76</td>\n",
              "      <td>0.98</td>\n",
              "      <td>9.50</td>\n",
              "    </tr>\n",
              "    <tr>\n",
              "      <th>74</th>\n",
              "      <td>287-21-9091</td>\n",
              "      <td>A</td>\n",
              "      <td>Yangon</td>\n",
              "      <td>Normal</td>\n",
              "      <td>Male</td>\n",
              "      <td>Home and lifestyle</td>\n",
              "      <td>74.67</td>\n",
              "      <td>9</td>\n",
              "      <td>33.60</td>\n",
              "      <td>705.63</td>\n",
              "      <td>1/22/2019</td>\n",
              "      <td>10:55</td>\n",
              "      <td>Ewallet</td>\n",
              "      <td>672.03</td>\n",
              "      <td>4.76</td>\n",
              "      <td>33.60</td>\n",
              "      <td>9.40</td>\n",
              "    </tr>\n",
              "    <tr>\n",
              "      <th>57</th>\n",
              "      <td>635-40-6220</td>\n",
              "      <td>A</td>\n",
              "      <td>Yangon</td>\n",
              "      <td>Normal</td>\n",
              "      <td>Male</td>\n",
              "      <td>Health and beauty</td>\n",
              "      <td>89.60</td>\n",
              "      <td>8</td>\n",
              "      <td>35.84</td>\n",
              "      <td>752.64</td>\n",
              "      <td>2/7/2019</td>\n",
              "      <td>11:28</td>\n",
              "      <td>Ewallet</td>\n",
              "      <td>716.80</td>\n",
              "      <td>4.76</td>\n",
              "      <td>35.84</td>\n",
              "      <td>6.60</td>\n",
              "    </tr>\n",
              "    <tr>\n",
              "      <th>269</th>\n",
              "      <td>731-14-2199</td>\n",
              "      <td>A</td>\n",
              "      <td>Yangon</td>\n",
              "      <td>Member</td>\n",
              "      <td>Female</td>\n",
              "      <td>Home and lifestyle</td>\n",
              "      <td>35.54</td>\n",
              "      <td>10</td>\n",
              "      <td>17.77</td>\n",
              "      <td>373.17</td>\n",
              "      <td>1/4/2019</td>\n",
              "      <td>13:34</td>\n",
              "      <td>Ewallet</td>\n",
              "      <td>355.40</td>\n",
              "      <td>4.76</td>\n",
              "      <td>17.77</td>\n",
              "      <td>7.00</td>\n",
              "    </tr>\n",
              "    <tr>\n",
              "      <th>392</th>\n",
              "      <td>563-36-9814</td>\n",
              "      <td>A</td>\n",
              "      <td>Yangon</td>\n",
              "      <td>Member</td>\n",
              "      <td>Male</td>\n",
              "      <td>Electronic accessories</td>\n",
              "      <td>76.82</td>\n",
              "      <td>1</td>\n",
              "      <td>3.84</td>\n",
              "      <td>80.66</td>\n",
              "      <td>2/13/2019</td>\n",
              "      <td>18:27</td>\n",
              "      <td>Ewallet</td>\n",
              "      <td>76.82</td>\n",
              "      <td>4.76</td>\n",
              "      <td>3.84</td>\n",
              "      <td>7.20</td>\n",
              "    </tr>\n",
              "  </tbody>\n",
              "</table>\n",
              "</div>"
            ],
            "text/plain": [
              "       ID Fatura Fatura  ...          Renda Bruta            Avaliação\n",
              "732  756-49-0168      A  ...                 0.98                 9.50\n",
              "74   287-21-9091      A  ...                33.60                 9.40\n",
              "57   635-40-6220      A  ...                35.84                 6.60\n",
              "269  731-14-2199      A  ...                17.77                 7.00\n",
              "392  563-36-9814      A  ...                 3.84                 7.20\n",
              "\n",
              "[5 rows x 17 columns]"
            ]
          },
          "metadata": {},
          "execution_count": 216
        }
      ]
    },
    {
      "cell_type": "code",
      "metadata": {
        "id": "txshbQ_kiijl"
      },
      "source": [
        "#Transformando tipo das colunas Data e Tempo\n",
        "df['Data'] = pd.to_datetime(df['Data'])\n",
        "df['Tempo'] = pd.to_datetime(df['Tempo'])"
      ],
      "execution_count": 217,
      "outputs": []
    },
    {
      "cell_type": "code",
      "metadata": {
        "colab": {
          "base_uri": "https://localhost:8080/"
        },
        "id": "6Xlp9y4Djg0x",
        "outputId": "4bd9c228-5ba9-4e55-89ef-7effef967f94"
      },
      "source": [
        "df.dtypes"
      ],
      "execution_count": 218,
      "outputs": [
        {
          "output_type": "execute_result",
          "data": {
            "text/plain": [
              "ID Fatura                           object\n",
              "Fatura                              object\n",
              "Cidade                              object\n",
              "Tipo Cliente                        object\n",
              "Gênero                              object\n",
              "Linha Produto                       object\n",
              "Preço Unit                         float64\n",
              "Quantidade                           int64\n",
              "Tax 5%                             float64\n",
              "Total                              float64\n",
              "Data                        datetime64[ns]\n",
              "Tempo                       datetime64[ns]\n",
              "Forma_Pagamento                     object\n",
              "cogs                               float64\n",
              "Porcentagem Margem Bruta           float64\n",
              "Renda Bruta                        float64\n",
              "Avaliação                          float64\n",
              "dtype: object"
            ]
          },
          "metadata": {},
          "execution_count": 218
        }
      ]
    },
    {
      "cell_type": "code",
      "metadata": {
        "id": "JkusnNhZiVaH"
      },
      "source": [
        "pd.options.display.float_format = '{:20,.2f}'.format"
      ],
      "execution_count": 219,
      "outputs": []
    },
    {
      "cell_type": "code",
      "metadata": {
        "colab": {
          "base_uri": "https://localhost:8080/"
        },
        "id": "XWMcahKOgW72",
        "outputId": "595e6805-3fcc-4923-d90c-204ec9c1d2e7"
      },
      "source": [
        "#Média de gastos por tipo de cliente\n",
        "df.groupby(\"Tipo Cliente\")[\"Total\"].mean() "
      ],
      "execution_count": 220,
      "outputs": [
        {
          "output_type": "execute_result",
          "data": {
            "text/plain": [
              "Tipo Cliente\n",
              "Member                 327.79\n",
              "Normal                 318.12\n",
              "Name: Total, dtype: float64"
            ]
          },
          "metadata": {},
          "execution_count": 220
        }
      ]
    },
    {
      "cell_type": "code",
      "metadata": {
        "colab": {
          "base_uri": "https://localhost:8080/"
        },
        "id": "esmX0oEDlFuH",
        "outputId": "c073b61c-b86a-4618-eaf8-26a8da1e61c9"
      },
      "source": [
        "df.isnull().sum()"
      ],
      "execution_count": 221,
      "outputs": [
        {
          "output_type": "execute_result",
          "data": {
            "text/plain": [
              "ID Fatura                   0\n",
              "Fatura                      0\n",
              "Cidade                      0\n",
              "Tipo Cliente                0\n",
              "Gênero                      0\n",
              "Linha Produto               0\n",
              "Preço Unit                  0\n",
              "Quantidade                  0\n",
              "Tax 5%                      0\n",
              "Total                       0\n",
              "Data                        0\n",
              "Tempo                       0\n",
              "Forma_Pagamento             0\n",
              "cogs                        0\n",
              "Porcentagem Margem Bruta    0\n",
              "Renda Bruta                 0\n",
              "Avaliação                   0\n",
              "dtype: int64"
            ]
          },
          "metadata": {},
          "execution_count": 221
        }
      ]
    },
    {
      "cell_type": "code",
      "metadata": {
        "colab": {
          "base_uri": "https://localhost:8080/"
        },
        "id": "kmk6wrT1lhlG",
        "outputId": "40358708-c36c-4ae8-d0bd-cfb60cefc387"
      },
      "source": [
        "df[\"Tax 5%\"].max() #Taxa Máxima"
      ],
      "execution_count": 222,
      "outputs": [
        {
          "output_type": "execute_result",
          "data": {
            "text/plain": [
              "49.65"
            ]
          },
          "metadata": {},
          "execution_count": 222
        }
      ]
    },
    {
      "cell_type": "code",
      "metadata": {
        "colab": {
          "base_uri": "https://localhost:8080/"
        },
        "id": "stww-iExlnqt",
        "outputId": "e4548e1f-2caa-4f57-e54a-383a0fa2c510"
      },
      "source": [
        "df[\"Tax 5%\"].min() #Taxa Máxima"
      ],
      "execution_count": 223,
      "outputs": [
        {
          "output_type": "execute_result",
          "data": {
            "text/plain": [
              "0.5085"
            ]
          },
          "metadata": {},
          "execution_count": 223
        }
      ]
    },
    {
      "cell_type": "code",
      "metadata": {
        "colab": {
          "base_uri": "https://localhost:8080/"
        },
        "id": "Ux-qoJY8l5Bz",
        "outputId": "6a4d497e-3c0c-41cd-d66e-821578594310"
      },
      "source": [
        "#Resutado da soma do Total - Soma do COGS = Total de taxas\n",
        "(df[\"Total\"].sum())-(df[\"cogs\"].sum()) "
      ],
      "execution_count": 224,
      "outputs": [
        {
          "output_type": "execute_result",
          "data": {
            "text/plain": [
              "15379.368999999948"
            ]
          },
          "metadata": {},
          "execution_count": 224
        }
      ]
    },
    {
      "cell_type": "code",
      "metadata": {
        "colab": {
          "base_uri": "https://localhost:8080/"
        },
        "id": "gefMMGYol48l",
        "outputId": "2b7215b0-864d-4635-8d80-c3dcd4f1c41b"
      },
      "source": [
        "#Soma de todas as taxas\n",
        "df[\"Tax 5%\"].sum()"
      ],
      "execution_count": 225,
      "outputs": [
        {
          "output_type": "execute_result",
          "data": {
            "text/plain": [
              "15379.368999999999"
            ]
          },
          "metadata": {},
          "execution_count": 225
        }
      ]
    },
    {
      "cell_type": "code",
      "metadata": {
        "colab": {
          "base_uri": "https://localhost:8080/",
          "height": 753
        },
        "id": "s5vchu6GmLmE",
        "outputId": "4f326eb4-00ec-45fa-eeb1-a55bb72a527e"
      },
      "source": [
        "#Top 10 maiores vendas\n",
        "df.nlargest(10, \"Total\")"
      ],
      "execution_count": 226,
      "outputs": [
        {
          "output_type": "execute_result",
          "data": {
            "text/html": [
              "<div>\n",
              "<style scoped>\n",
              "    .dataframe tbody tr th:only-of-type {\n",
              "        vertical-align: middle;\n",
              "    }\n",
              "\n",
              "    .dataframe tbody tr th {\n",
              "        vertical-align: top;\n",
              "    }\n",
              "\n",
              "    .dataframe thead th {\n",
              "        text-align: right;\n",
              "    }\n",
              "</style>\n",
              "<table border=\"1\" class=\"dataframe\">\n",
              "  <thead>\n",
              "    <tr style=\"text-align: right;\">\n",
              "      <th></th>\n",
              "      <th>ID Fatura</th>\n",
              "      <th>Fatura</th>\n",
              "      <th>Cidade</th>\n",
              "      <th>Tipo Cliente</th>\n",
              "      <th>Gênero</th>\n",
              "      <th>Linha Produto</th>\n",
              "      <th>Preço Unit</th>\n",
              "      <th>Quantidade</th>\n",
              "      <th>Tax 5%</th>\n",
              "      <th>Total</th>\n",
              "      <th>Data</th>\n",
              "      <th>Tempo</th>\n",
              "      <th>Forma_Pagamento</th>\n",
              "      <th>cogs</th>\n",
              "      <th>Porcentagem Margem Bruta</th>\n",
              "      <th>Renda Bruta</th>\n",
              "      <th>Avaliação</th>\n",
              "    </tr>\n",
              "  </thead>\n",
              "  <tbody>\n",
              "    <tr>\n",
              "      <th>350</th>\n",
              "      <td>860-79-0874</td>\n",
              "      <td>C</td>\n",
              "      <td>Naypyitaw</td>\n",
              "      <td>Member</td>\n",
              "      <td>Female</td>\n",
              "      <td>Fashion accessories</td>\n",
              "      <td>99.30</td>\n",
              "      <td>10</td>\n",
              "      <td>49.65</td>\n",
              "      <td>1,042.65</td>\n",
              "      <td>2019-02-15</td>\n",
              "      <td>2021-08-27 14:53:00</td>\n",
              "      <td>Credit card</td>\n",
              "      <td>993.00</td>\n",
              "      <td>4.76</td>\n",
              "      <td>49.65</td>\n",
              "      <td>6.60</td>\n",
              "    </tr>\n",
              "    <tr>\n",
              "      <th>167</th>\n",
              "      <td>687-47-8271</td>\n",
              "      <td>A</td>\n",
              "      <td>Yangon</td>\n",
              "      <td>Normal</td>\n",
              "      <td>Male</td>\n",
              "      <td>Fashion accessories</td>\n",
              "      <td>98.98</td>\n",
              "      <td>10</td>\n",
              "      <td>49.49</td>\n",
              "      <td>1,039.29</td>\n",
              "      <td>2019-02-08</td>\n",
              "      <td>2021-08-27 16:20:00</td>\n",
              "      <td>Credit card</td>\n",
              "      <td>989.80</td>\n",
              "      <td>4.76</td>\n",
              "      <td>49.49</td>\n",
              "      <td>8.70</td>\n",
              "    </tr>\n",
              "    <tr>\n",
              "      <th>557</th>\n",
              "      <td>283-26-5248</td>\n",
              "      <td>C</td>\n",
              "      <td>Naypyitaw</td>\n",
              "      <td>Member</td>\n",
              "      <td>Female</td>\n",
              "      <td>Food and beverages</td>\n",
              "      <td>98.52</td>\n",
              "      <td>10</td>\n",
              "      <td>49.26</td>\n",
              "      <td>1,034.46</td>\n",
              "      <td>2019-01-30</td>\n",
              "      <td>2021-08-27 20:23:00</td>\n",
              "      <td>Ewallet</td>\n",
              "      <td>985.20</td>\n",
              "      <td>4.76</td>\n",
              "      <td>49.26</td>\n",
              "      <td>4.50</td>\n",
              "    </tr>\n",
              "    <tr>\n",
              "      <th>699</th>\n",
              "      <td>751-41-9720</td>\n",
              "      <td>C</td>\n",
              "      <td>Naypyitaw</td>\n",
              "      <td>Normal</td>\n",
              "      <td>Male</td>\n",
              "      <td>Home and lifestyle</td>\n",
              "      <td>97.50</td>\n",
              "      <td>10</td>\n",
              "      <td>48.75</td>\n",
              "      <td>1,023.75</td>\n",
              "      <td>2019-01-12</td>\n",
              "      <td>2021-08-27 16:18:00</td>\n",
              "      <td>Ewallet</td>\n",
              "      <td>975.00</td>\n",
              "      <td>4.76</td>\n",
              "      <td>48.75</td>\n",
              "      <td>8.00</td>\n",
              "    </tr>\n",
              "    <tr>\n",
              "      <th>996</th>\n",
              "      <td>303-96-2227</td>\n",
              "      <td>B</td>\n",
              "      <td>Mandalay</td>\n",
              "      <td>Normal</td>\n",
              "      <td>Female</td>\n",
              "      <td>Home and lifestyle</td>\n",
              "      <td>97.38</td>\n",
              "      <td>10</td>\n",
              "      <td>48.69</td>\n",
              "      <td>1,022.49</td>\n",
              "      <td>2019-03-02</td>\n",
              "      <td>2021-08-27 17:16:00</td>\n",
              "      <td>Ewallet</td>\n",
              "      <td>973.80</td>\n",
              "      <td>4.76</td>\n",
              "      <td>48.69</td>\n",
              "      <td>4.40</td>\n",
              "    </tr>\n",
              "    <tr>\n",
              "      <th>792</th>\n",
              "      <td>744-16-7898</td>\n",
              "      <td>B</td>\n",
              "      <td>Mandalay</td>\n",
              "      <td>Normal</td>\n",
              "      <td>Female</td>\n",
              "      <td>Home and lifestyle</td>\n",
              "      <td>97.37</td>\n",
              "      <td>10</td>\n",
              "      <td>48.69</td>\n",
              "      <td>1,022.38</td>\n",
              "      <td>2019-01-15</td>\n",
              "      <td>2021-08-27 13:48:00</td>\n",
              "      <td>Credit card</td>\n",
              "      <td>973.70</td>\n",
              "      <td>4.76</td>\n",
              "      <td>48.69</td>\n",
              "      <td>4.90</td>\n",
              "    </tr>\n",
              "    <tr>\n",
              "      <th>422</th>\n",
              "      <td>271-88-8734</td>\n",
              "      <td>C</td>\n",
              "      <td>Naypyitaw</td>\n",
              "      <td>Member</td>\n",
              "      <td>Female</td>\n",
              "      <td>Fashion accessories</td>\n",
              "      <td>97.21</td>\n",
              "      <td>10</td>\n",
              "      <td>48.60</td>\n",
              "      <td>1,020.71</td>\n",
              "      <td>2019-02-08</td>\n",
              "      <td>2021-08-27 13:00:00</td>\n",
              "      <td>Credit card</td>\n",
              "      <td>972.10</td>\n",
              "      <td>4.76</td>\n",
              "      <td>48.60</td>\n",
              "      <td>8.70</td>\n",
              "    </tr>\n",
              "    <tr>\n",
              "      <th>166</th>\n",
              "      <td>234-65-2137</td>\n",
              "      <td>C</td>\n",
              "      <td>Naypyitaw</td>\n",
              "      <td>Normal</td>\n",
              "      <td>Male</td>\n",
              "      <td>Home and lifestyle</td>\n",
              "      <td>95.58</td>\n",
              "      <td>10</td>\n",
              "      <td>47.79</td>\n",
              "      <td>1,003.59</td>\n",
              "      <td>2019-01-16</td>\n",
              "      <td>2021-08-27 13:32:00</td>\n",
              "      <td>Cash</td>\n",
              "      <td>955.80</td>\n",
              "      <td>4.76</td>\n",
              "      <td>47.79</td>\n",
              "      <td>4.80</td>\n",
              "    </tr>\n",
              "    <tr>\n",
              "      <th>357</th>\n",
              "      <td>554-42-2417</td>\n",
              "      <td>C</td>\n",
              "      <td>Naypyitaw</td>\n",
              "      <td>Normal</td>\n",
              "      <td>Female</td>\n",
              "      <td>Sports and travel</td>\n",
              "      <td>95.44</td>\n",
              "      <td>10</td>\n",
              "      <td>47.72</td>\n",
              "      <td>1,002.12</td>\n",
              "      <td>2019-01-09</td>\n",
              "      <td>2021-08-27 13:45:00</td>\n",
              "      <td>Cash</td>\n",
              "      <td>954.40</td>\n",
              "      <td>4.76</td>\n",
              "      <td>47.72</td>\n",
              "      <td>5.20</td>\n",
              "    </tr>\n",
              "    <tr>\n",
              "      <th>429</th>\n",
              "      <td>325-77-6186</td>\n",
              "      <td>A</td>\n",
              "      <td>Yangon</td>\n",
              "      <td>Member</td>\n",
              "      <td>Female</td>\n",
              "      <td>Home and lifestyle</td>\n",
              "      <td>90.65</td>\n",
              "      <td>10</td>\n",
              "      <td>45.33</td>\n",
              "      <td>951.83</td>\n",
              "      <td>2019-03-08</td>\n",
              "      <td>2021-08-27 10:53:00</td>\n",
              "      <td>Ewallet</td>\n",
              "      <td>906.50</td>\n",
              "      <td>4.76</td>\n",
              "      <td>45.33</td>\n",
              "      <td>7.30</td>\n",
              "    </tr>\n",
              "  </tbody>\n",
              "</table>\n",
              "</div>"
            ],
            "text/plain": [
              "       ID Fatura Fatura  ...          Renda Bruta            Avaliação\n",
              "350  860-79-0874      C  ...                49.65                 6.60\n",
              "167  687-47-8271      A  ...                49.49                 8.70\n",
              "557  283-26-5248      C  ...                49.26                 4.50\n",
              "699  751-41-9720      C  ...                48.75                 8.00\n",
              "996  303-96-2227      B  ...                48.69                 4.40\n",
              "792  744-16-7898      B  ...                48.69                 4.90\n",
              "422  271-88-8734      C  ...                48.60                 8.70\n",
              "166  234-65-2137      C  ...                47.79                 4.80\n",
              "357  554-42-2417      C  ...                47.72                 5.20\n",
              "429  325-77-6186      A  ...                45.33                 7.30\n",
              "\n",
              "[10 rows x 17 columns]"
            ]
          },
          "metadata": {},
          "execution_count": 226
        }
      ]
    },
    {
      "cell_type": "code",
      "metadata": {
        "colab": {
          "base_uri": "https://localhost:8080/",
          "height": 753
        },
        "id": "wKsya2_vm10D",
        "outputId": "043c90e4-4894-45a2-d0fd-9b9875323af1"
      },
      "source": [
        "#Top 10 menores vendas\n",
        "df.nsmallest(10, \"Total\")"
      ],
      "execution_count": 227,
      "outputs": [
        {
          "output_type": "execute_result",
          "data": {
            "text/html": [
              "<div>\n",
              "<style scoped>\n",
              "    .dataframe tbody tr th:only-of-type {\n",
              "        vertical-align: middle;\n",
              "    }\n",
              "\n",
              "    .dataframe tbody tr th {\n",
              "        vertical-align: top;\n",
              "    }\n",
              "\n",
              "    .dataframe thead th {\n",
              "        text-align: right;\n",
              "    }\n",
              "</style>\n",
              "<table border=\"1\" class=\"dataframe\">\n",
              "  <thead>\n",
              "    <tr style=\"text-align: right;\">\n",
              "      <th></th>\n",
              "      <th>ID Fatura</th>\n",
              "      <th>Fatura</th>\n",
              "      <th>Cidade</th>\n",
              "      <th>Tipo Cliente</th>\n",
              "      <th>Gênero</th>\n",
              "      <th>Linha Produto</th>\n",
              "      <th>Preço Unit</th>\n",
              "      <th>Quantidade</th>\n",
              "      <th>Tax 5%</th>\n",
              "      <th>Total</th>\n",
              "      <th>Data</th>\n",
              "      <th>Tempo</th>\n",
              "      <th>Forma_Pagamento</th>\n",
              "      <th>cogs</th>\n",
              "      <th>Porcentagem Margem Bruta</th>\n",
              "      <th>Renda Bruta</th>\n",
              "      <th>Avaliação</th>\n",
              "    </tr>\n",
              "  </thead>\n",
              "  <tbody>\n",
              "    <tr>\n",
              "      <th>822</th>\n",
              "      <td>784-21-9238</td>\n",
              "      <td>C</td>\n",
              "      <td>Naypyitaw</td>\n",
              "      <td>Member</td>\n",
              "      <td>Male</td>\n",
              "      <td>Sports and travel</td>\n",
              "      <td>10.17</td>\n",
              "      <td>1</td>\n",
              "      <td>0.51</td>\n",
              "      <td>10.68</td>\n",
              "      <td>2019-02-07</td>\n",
              "      <td>2021-08-27 14:15:00</td>\n",
              "      <td>Cash</td>\n",
              "      <td>10.17</td>\n",
              "      <td>4.76</td>\n",
              "      <td>0.51</td>\n",
              "      <td>5.90</td>\n",
              "    </tr>\n",
              "    <tr>\n",
              "      <th>629</th>\n",
              "      <td>308-39-1707</td>\n",
              "      <td>A</td>\n",
              "      <td>Yangon</td>\n",
              "      <td>Normal</td>\n",
              "      <td>Female</td>\n",
              "      <td>Fashion accessories</td>\n",
              "      <td>12.09</td>\n",
              "      <td>1</td>\n",
              "      <td>0.60</td>\n",
              "      <td>12.69</td>\n",
              "      <td>2019-01-26</td>\n",
              "      <td>2021-08-27 18:19:00</td>\n",
              "      <td>Credit card</td>\n",
              "      <td>12.09</td>\n",
              "      <td>4.76</td>\n",
              "      <td>0.60</td>\n",
              "      <td>8.20</td>\n",
              "    </tr>\n",
              "    <tr>\n",
              "      <th>223</th>\n",
              "      <td>279-62-1445</td>\n",
              "      <td>C</td>\n",
              "      <td>Naypyitaw</td>\n",
              "      <td>Member</td>\n",
              "      <td>Female</td>\n",
              "      <td>Fashion accessories</td>\n",
              "      <td>12.54</td>\n",
              "      <td>1</td>\n",
              "      <td>0.63</td>\n",
              "      <td>13.17</td>\n",
              "      <td>2019-02-21</td>\n",
              "      <td>2021-08-27 12:38:00</td>\n",
              "      <td>Cash</td>\n",
              "      <td>12.54</td>\n",
              "      <td>4.76</td>\n",
              "      <td>0.63</td>\n",
              "      <td>8.20</td>\n",
              "    </tr>\n",
              "    <tr>\n",
              "      <th>443</th>\n",
              "      <td>192-98-7397</td>\n",
              "      <td>C</td>\n",
              "      <td>Naypyitaw</td>\n",
              "      <td>Normal</td>\n",
              "      <td>Male</td>\n",
              "      <td>Fashion accessories</td>\n",
              "      <td>12.78</td>\n",
              "      <td>1</td>\n",
              "      <td>0.64</td>\n",
              "      <td>13.42</td>\n",
              "      <td>2019-01-08</td>\n",
              "      <td>2021-08-27 14:11:00</td>\n",
              "      <td>Ewallet</td>\n",
              "      <td>12.78</td>\n",
              "      <td>4.76</td>\n",
              "      <td>0.64</td>\n",
              "      <td>9.50</td>\n",
              "    </tr>\n",
              "    <tr>\n",
              "      <th>402</th>\n",
              "      <td>236-86-3015</td>\n",
              "      <td>C</td>\n",
              "      <td>Naypyitaw</td>\n",
              "      <td>Member</td>\n",
              "      <td>Male</td>\n",
              "      <td>Home and lifestyle</td>\n",
              "      <td>13.98</td>\n",
              "      <td>1</td>\n",
              "      <td>0.70</td>\n",
              "      <td>14.68</td>\n",
              "      <td>2019-02-04</td>\n",
              "      <td>2021-08-27 13:38:00</td>\n",
              "      <td>Ewallet</td>\n",
              "      <td>13.98</td>\n",
              "      <td>4.76</td>\n",
              "      <td>0.70</td>\n",
              "      <td>9.80</td>\n",
              "    </tr>\n",
              "    <tr>\n",
              "      <th>282</th>\n",
              "      <td>490-29-1201</td>\n",
              "      <td>A</td>\n",
              "      <td>Yangon</td>\n",
              "      <td>Normal</td>\n",
              "      <td>Female</td>\n",
              "      <td>Sports and travel</td>\n",
              "      <td>15.34</td>\n",
              "      <td>1</td>\n",
              "      <td>0.77</td>\n",
              "      <td>16.11</td>\n",
              "      <td>2019-01-06</td>\n",
              "      <td>2021-08-27 11:09:00</td>\n",
              "      <td>Cash</td>\n",
              "      <td>15.34</td>\n",
              "      <td>4.76</td>\n",
              "      <td>0.77</td>\n",
              "      <td>6.50</td>\n",
              "    </tr>\n",
              "    <tr>\n",
              "      <th>53</th>\n",
              "      <td>778-71-5554</td>\n",
              "      <td>C</td>\n",
              "      <td>Naypyitaw</td>\n",
              "      <td>Member</td>\n",
              "      <td>Male</td>\n",
              "      <td>Fashion accessories</td>\n",
              "      <td>15.43</td>\n",
              "      <td>1</td>\n",
              "      <td>0.77</td>\n",
              "      <td>16.20</td>\n",
              "      <td>2019-01-25</td>\n",
              "      <td>2021-08-27 15:46:00</td>\n",
              "      <td>Credit card</td>\n",
              "      <td>15.43</td>\n",
              "      <td>4.76</td>\n",
              "      <td>0.77</td>\n",
              "      <td>6.10</td>\n",
              "    </tr>\n",
              "    <tr>\n",
              "      <th>962</th>\n",
              "      <td>593-08-5916</td>\n",
              "      <td>A</td>\n",
              "      <td>Yangon</td>\n",
              "      <td>Normal</td>\n",
              "      <td>Female</td>\n",
              "      <td>Fashion accessories</td>\n",
              "      <td>15.50</td>\n",
              "      <td>1</td>\n",
              "      <td>0.78</td>\n",
              "      <td>16.27</td>\n",
              "      <td>2019-03-19</td>\n",
              "      <td>2021-08-27 15:23:00</td>\n",
              "      <td>Credit card</td>\n",
              "      <td>15.50</td>\n",
              "      <td>4.76</td>\n",
              "      <td>0.78</td>\n",
              "      <td>7.40</td>\n",
              "    </tr>\n",
              "    <tr>\n",
              "      <th>424</th>\n",
              "      <td>489-64-4354</td>\n",
              "      <td>C</td>\n",
              "      <td>Naypyitaw</td>\n",
              "      <td>Normal</td>\n",
              "      <td>Male</td>\n",
              "      <td>Fashion accessories</td>\n",
              "      <td>16.28</td>\n",
              "      <td>1</td>\n",
              "      <td>0.81</td>\n",
              "      <td>17.09</td>\n",
              "      <td>2019-03-09</td>\n",
              "      <td>2021-08-27 15:36:00</td>\n",
              "      <td>Cash</td>\n",
              "      <td>16.28</td>\n",
              "      <td>4.76</td>\n",
              "      <td>0.81</td>\n",
              "      <td>5.00</td>\n",
              "    </tr>\n",
              "    <tr>\n",
              "      <th>808</th>\n",
              "      <td>559-61-5987</td>\n",
              "      <td>B</td>\n",
              "      <td>Mandalay</td>\n",
              "      <td>Normal</td>\n",
              "      <td>Female</td>\n",
              "      <td>Health and beauty</td>\n",
              "      <td>17.75</td>\n",
              "      <td>1</td>\n",
              "      <td>0.89</td>\n",
              "      <td>18.64</td>\n",
              "      <td>2019-01-14</td>\n",
              "      <td>2021-08-27 10:38:00</td>\n",
              "      <td>Cash</td>\n",
              "      <td>17.75</td>\n",
              "      <td>4.76</td>\n",
              "      <td>0.89</td>\n",
              "      <td>8.60</td>\n",
              "    </tr>\n",
              "  </tbody>\n",
              "</table>\n",
              "</div>"
            ],
            "text/plain": [
              "       ID Fatura Fatura  ...          Renda Bruta            Avaliação\n",
              "822  784-21-9238      C  ...                 0.51                 5.90\n",
              "629  308-39-1707      A  ...                 0.60                 8.20\n",
              "223  279-62-1445      C  ...                 0.63                 8.20\n",
              "443  192-98-7397      C  ...                 0.64                 9.50\n",
              "402  236-86-3015      C  ...                 0.70                 9.80\n",
              "282  490-29-1201      A  ...                 0.77                 6.50\n",
              "53   778-71-5554      C  ...                 0.77                 6.10\n",
              "962  593-08-5916      A  ...                 0.78                 7.40\n",
              "424  489-64-4354      C  ...                 0.81                 5.00\n",
              "808  559-61-5987      B  ...                 0.89                 8.60\n",
              "\n",
              "[10 rows x 17 columns]"
            ]
          },
          "metadata": {},
          "execution_count": 227
        }
      ]
    },
    {
      "cell_type": "code",
      "metadata": {
        "id": "kK1aBKafnhxF"
      },
      "source": [
        "df[\"Mes_Venda\"], df[\"Dia_Venda\"] =  (df[\"Data\"].dt.month, df[\"Data\"].dt.day) #Criando coluna Mês Venda"
      ],
      "execution_count": 228,
      "outputs": []
    },
    {
      "cell_type": "code",
      "metadata": {
        "id": "LYbnoiT70y3l"
      },
      "source": [
        "df[\"Hora_Venda\"], df[\"Minuto_Venda\"]  =  (df[\"Tempo\"].dt.hour, df[\"Tempo\"].dt.minute) #Criando coluna Hora Venda"
      ],
      "execution_count": 229,
      "outputs": []
    },
    {
      "cell_type": "code",
      "metadata": {
        "colab": {
          "base_uri": "https://localhost:8080/",
          "height": 753
        },
        "id": "UL9_1bDgnVeT",
        "outputId": "ab9c605d-3027-4a06-a968-5a328633276a"
      },
      "source": [
        "df.sample(10)"
      ],
      "execution_count": 230,
      "outputs": [
        {
          "output_type": "execute_result",
          "data": {
            "text/html": [
              "<div>\n",
              "<style scoped>\n",
              "    .dataframe tbody tr th:only-of-type {\n",
              "        vertical-align: middle;\n",
              "    }\n",
              "\n",
              "    .dataframe tbody tr th {\n",
              "        vertical-align: top;\n",
              "    }\n",
              "\n",
              "    .dataframe thead th {\n",
              "        text-align: right;\n",
              "    }\n",
              "</style>\n",
              "<table border=\"1\" class=\"dataframe\">\n",
              "  <thead>\n",
              "    <tr style=\"text-align: right;\">\n",
              "      <th></th>\n",
              "      <th>ID Fatura</th>\n",
              "      <th>Fatura</th>\n",
              "      <th>Cidade</th>\n",
              "      <th>Tipo Cliente</th>\n",
              "      <th>Gênero</th>\n",
              "      <th>Linha Produto</th>\n",
              "      <th>Preço Unit</th>\n",
              "      <th>Quantidade</th>\n",
              "      <th>Tax 5%</th>\n",
              "      <th>Total</th>\n",
              "      <th>Data</th>\n",
              "      <th>Tempo</th>\n",
              "      <th>Forma_Pagamento</th>\n",
              "      <th>cogs</th>\n",
              "      <th>Porcentagem Margem Bruta</th>\n",
              "      <th>Renda Bruta</th>\n",
              "      <th>Avaliação</th>\n",
              "      <th>Mes_Venda</th>\n",
              "      <th>Dia_Venda</th>\n",
              "      <th>Hora_Venda</th>\n",
              "      <th>Minuto_Venda</th>\n",
              "    </tr>\n",
              "  </thead>\n",
              "  <tbody>\n",
              "    <tr>\n",
              "      <th>123</th>\n",
              "      <td>336-78-2147</td>\n",
              "      <td>C</td>\n",
              "      <td>Naypyitaw</td>\n",
              "      <td>Member</td>\n",
              "      <td>Male</td>\n",
              "      <td>Home and lifestyle</td>\n",
              "      <td>63.91</td>\n",
              "      <td>8</td>\n",
              "      <td>25.56</td>\n",
              "      <td>536.84</td>\n",
              "      <td>2019-03-13</td>\n",
              "      <td>2021-08-27 19:52:00</td>\n",
              "      <td>Credit card</td>\n",
              "      <td>511.28</td>\n",
              "      <td>4.76</td>\n",
              "      <td>25.56</td>\n",
              "      <td>4.60</td>\n",
              "      <td>3</td>\n",
              "      <td>13</td>\n",
              "      <td>19</td>\n",
              "      <td>52</td>\n",
              "    </tr>\n",
              "    <tr>\n",
              "      <th>907</th>\n",
              "      <td>851-98-3555</td>\n",
              "      <td>B</td>\n",
              "      <td>Mandalay</td>\n",
              "      <td>Normal</td>\n",
              "      <td>Female</td>\n",
              "      <td>Health and beauty</td>\n",
              "      <td>82.88</td>\n",
              "      <td>5</td>\n",
              "      <td>20.72</td>\n",
              "      <td>435.12</td>\n",
              "      <td>2019-03-24</td>\n",
              "      <td>2021-08-27 14:08:00</td>\n",
              "      <td>Credit card</td>\n",
              "      <td>414.40</td>\n",
              "      <td>4.76</td>\n",
              "      <td>20.72</td>\n",
              "      <td>6.60</td>\n",
              "      <td>3</td>\n",
              "      <td>24</td>\n",
              "      <td>14</td>\n",
              "      <td>8</td>\n",
              "    </tr>\n",
              "    <tr>\n",
              "      <th>211</th>\n",
              "      <td>677-11-0152</td>\n",
              "      <td>C</td>\n",
              "      <td>Naypyitaw</td>\n",
              "      <td>Normal</td>\n",
              "      <td>Female</td>\n",
              "      <td>Food and beverages</td>\n",
              "      <td>93.26</td>\n",
              "      <td>9</td>\n",
              "      <td>41.97</td>\n",
              "      <td>881.31</td>\n",
              "      <td>2019-01-16</td>\n",
              "      <td>2021-08-27 18:08:00</td>\n",
              "      <td>Cash</td>\n",
              "      <td>839.34</td>\n",
              "      <td>4.76</td>\n",
              "      <td>41.97</td>\n",
              "      <td>8.80</td>\n",
              "      <td>1</td>\n",
              "      <td>16</td>\n",
              "      <td>18</td>\n",
              "      <td>8</td>\n",
              "    </tr>\n",
              "    <tr>\n",
              "      <th>843</th>\n",
              "      <td>549-23-9016</td>\n",
              "      <td>C</td>\n",
              "      <td>Naypyitaw</td>\n",
              "      <td>Member</td>\n",
              "      <td>Female</td>\n",
              "      <td>Food and beverages</td>\n",
              "      <td>14.87</td>\n",
              "      <td>2</td>\n",
              "      <td>1.49</td>\n",
              "      <td>31.23</td>\n",
              "      <td>2019-02-13</td>\n",
              "      <td>2021-08-27 18:15:00</td>\n",
              "      <td>Credit card</td>\n",
              "      <td>29.74</td>\n",
              "      <td>4.76</td>\n",
              "      <td>1.49</td>\n",
              "      <td>8.90</td>\n",
              "      <td>2</td>\n",
              "      <td>13</td>\n",
              "      <td>18</td>\n",
              "      <td>15</td>\n",
              "    </tr>\n",
              "    <tr>\n",
              "      <th>854</th>\n",
              "      <td>160-22-2687</td>\n",
              "      <td>A</td>\n",
              "      <td>Yangon</td>\n",
              "      <td>Member</td>\n",
              "      <td>Female</td>\n",
              "      <td>Health and beauty</td>\n",
              "      <td>95.95</td>\n",
              "      <td>5</td>\n",
              "      <td>23.99</td>\n",
              "      <td>503.74</td>\n",
              "      <td>2019-01-23</td>\n",
              "      <td>2021-08-27 14:21:00</td>\n",
              "      <td>Ewallet</td>\n",
              "      <td>479.75</td>\n",
              "      <td>4.76</td>\n",
              "      <td>23.99</td>\n",
              "      <td>8.80</td>\n",
              "      <td>1</td>\n",
              "      <td>23</td>\n",
              "      <td>14</td>\n",
              "      <td>21</td>\n",
              "    </tr>\n",
              "    <tr>\n",
              "      <th>242</th>\n",
              "      <td>142-72-4741</td>\n",
              "      <td>C</td>\n",
              "      <td>Naypyitaw</td>\n",
              "      <td>Member</td>\n",
              "      <td>Male</td>\n",
              "      <td>Fashion accessories</td>\n",
              "      <td>93.20</td>\n",
              "      <td>2</td>\n",
              "      <td>9.32</td>\n",
              "      <td>195.72</td>\n",
              "      <td>2019-02-28</td>\n",
              "      <td>2021-08-27 18:37:00</td>\n",
              "      <td>Credit card</td>\n",
              "      <td>186.40</td>\n",
              "      <td>4.76</td>\n",
              "      <td>9.32</td>\n",
              "      <td>6.00</td>\n",
              "      <td>2</td>\n",
              "      <td>28</td>\n",
              "      <td>18</td>\n",
              "      <td>37</td>\n",
              "    </tr>\n",
              "    <tr>\n",
              "      <th>534</th>\n",
              "      <td>892-05-6689</td>\n",
              "      <td>A</td>\n",
              "      <td>Yangon</td>\n",
              "      <td>Normal</td>\n",
              "      <td>Female</td>\n",
              "      <td>Home and lifestyle</td>\n",
              "      <td>28.32</td>\n",
              "      <td>5</td>\n",
              "      <td>7.08</td>\n",
              "      <td>148.68</td>\n",
              "      <td>2019-03-11</td>\n",
              "      <td>2021-08-27 13:28:00</td>\n",
              "      <td>Ewallet</td>\n",
              "      <td>141.60</td>\n",
              "      <td>4.76</td>\n",
              "      <td>7.08</td>\n",
              "      <td>6.20</td>\n",
              "      <td>3</td>\n",
              "      <td>11</td>\n",
              "      <td>13</td>\n",
              "      <td>28</td>\n",
              "    </tr>\n",
              "    <tr>\n",
              "      <th>842</th>\n",
              "      <td>860-73-6466</td>\n",
              "      <td>A</td>\n",
              "      <td>Yangon</td>\n",
              "      <td>Member</td>\n",
              "      <td>Female</td>\n",
              "      <td>Sports and travel</td>\n",
              "      <td>39.47</td>\n",
              "      <td>2</td>\n",
              "      <td>3.95</td>\n",
              "      <td>82.89</td>\n",
              "      <td>2019-03-02</td>\n",
              "      <td>2021-08-27 16:16:00</td>\n",
              "      <td>Credit card</td>\n",
              "      <td>78.94</td>\n",
              "      <td>4.76</td>\n",
              "      <td>3.95</td>\n",
              "      <td>5.00</td>\n",
              "      <td>3</td>\n",
              "      <td>2</td>\n",
              "      <td>16</td>\n",
              "      <td>16</td>\n",
              "    </tr>\n",
              "    <tr>\n",
              "      <th>870</th>\n",
              "      <td>873-14-6353</td>\n",
              "      <td>A</td>\n",
              "      <td>Yangon</td>\n",
              "      <td>Member</td>\n",
              "      <td>Male</td>\n",
              "      <td>Food and beverages</td>\n",
              "      <td>24.82</td>\n",
              "      <td>7</td>\n",
              "      <td>8.69</td>\n",
              "      <td>182.43</td>\n",
              "      <td>2019-02-16</td>\n",
              "      <td>2021-08-27 10:33:00</td>\n",
              "      <td>Credit card</td>\n",
              "      <td>173.74</td>\n",
              "      <td>4.76</td>\n",
              "      <td>8.69</td>\n",
              "      <td>7.10</td>\n",
              "      <td>2</td>\n",
              "      <td>16</td>\n",
              "      <td>10</td>\n",
              "      <td>33</td>\n",
              "    </tr>\n",
              "    <tr>\n",
              "      <th>145</th>\n",
              "      <td>458-41-1477</td>\n",
              "      <td>C</td>\n",
              "      <td>Naypyitaw</td>\n",
              "      <td>Normal</td>\n",
              "      <td>Female</td>\n",
              "      <td>Health and beauty</td>\n",
              "      <td>46.26</td>\n",
              "      <td>6</td>\n",
              "      <td>13.88</td>\n",
              "      <td>291.44</td>\n",
              "      <td>2019-03-08</td>\n",
              "      <td>2021-08-27 17:11:00</td>\n",
              "      <td>Credit card</td>\n",
              "      <td>277.56</td>\n",
              "      <td>4.76</td>\n",
              "      <td>13.88</td>\n",
              "      <td>9.50</td>\n",
              "      <td>3</td>\n",
              "      <td>8</td>\n",
              "      <td>17</td>\n",
              "      <td>11</td>\n",
              "    </tr>\n",
              "  </tbody>\n",
              "</table>\n",
              "</div>"
            ],
            "text/plain": [
              "       ID Fatura Fatura     Cidade  ... Dia_Venda Hora_Venda Minuto_Venda\n",
              "123  336-78-2147      C  Naypyitaw  ...        13         19           52\n",
              "907  851-98-3555      B   Mandalay  ...        24         14            8\n",
              "211  677-11-0152      C  Naypyitaw  ...        16         18            8\n",
              "843  549-23-9016      C  Naypyitaw  ...        13         18           15\n",
              "854  160-22-2687      A     Yangon  ...        23         14           21\n",
              "242  142-72-4741      C  Naypyitaw  ...        28         18           37\n",
              "534  892-05-6689      A     Yangon  ...        11         13           28\n",
              "842  860-73-6466      A     Yangon  ...         2         16           16\n",
              "870  873-14-6353      A     Yangon  ...        16         10           33\n",
              "145  458-41-1477      C  Naypyitaw  ...         8         17           11\n",
              "\n",
              "[10 rows x 21 columns]"
            ]
          },
          "metadata": {},
          "execution_count": 230
        }
      ]
    },
    {
      "cell_type": "code",
      "metadata": {
        "colab": {
          "base_uri": "https://localhost:8080/"
        },
        "id": "CRuPRbfFQy_s",
        "outputId": "12edc4c0-b536-4c73-aa6d-e905690c0354"
      },
      "source": [
        "df.dtypes"
      ],
      "execution_count": 231,
      "outputs": [
        {
          "output_type": "execute_result",
          "data": {
            "text/plain": [
              "ID Fatura                           object\n",
              "Fatura                              object\n",
              "Cidade                              object\n",
              "Tipo Cliente                        object\n",
              "Gênero                              object\n",
              "Linha Produto                       object\n",
              "Preço Unit                         float64\n",
              "Quantidade                           int64\n",
              "Tax 5%                             float64\n",
              "Total                              float64\n",
              "Data                        datetime64[ns]\n",
              "Tempo                       datetime64[ns]\n",
              "Forma_Pagamento                     object\n",
              "cogs                               float64\n",
              "Porcentagem Margem Bruta           float64\n",
              "Renda Bruta                        float64\n",
              "Avaliação                          float64\n",
              "Mes_Venda                            int64\n",
              "Dia_Venda                            int64\n",
              "Hora_Venda                           int64\n",
              "Minuto_Venda                         int64\n",
              "dtype: object"
            ]
          },
          "metadata": {},
          "execution_count": 231
        }
      ]
    },
    {
      "cell_type": "code",
      "metadata": {
        "colab": {
          "base_uri": "https://localhost:8080/"
        },
        "id": "2jKgSX7TnTn5",
        "outputId": "1981ceb6-c521-4dab-be3f-be216f4d66e0"
      },
      "source": [
        "#Total de venda por Cidade\n",
        "df.groupby(\"Cidade\")[\"Total\"].sum()"
      ],
      "execution_count": 232,
      "outputs": [
        {
          "output_type": "execute_result",
          "data": {
            "text/plain": [
              "Cidade\n",
              "Mandalay              106,197.67\n",
              "Naypyitaw             110,568.71\n",
              "Yangon                106,200.37\n",
              "Name: Total, dtype: float64"
            ]
          },
          "metadata": {},
          "execution_count": 232
        }
      ]
    },
    {
      "cell_type": "code",
      "metadata": {
        "colab": {
          "base_uri": "https://localhost:8080/"
        },
        "id": "SnUNKh_xnHFS",
        "outputId": "2b34645b-782c-4eae-e6bd-d656f4b77aa2"
      },
      "source": [
        "#Total de venda por Mês\n",
        "df.groupby(\"Mes_Venda\")[\"Total\"].sum()"
      ],
      "execution_count": 233,
      "outputs": [
        {
          "output_type": "execute_result",
          "data": {
            "text/plain": [
              "Mes_Venda\n",
              "1             116,291.87\n",
              "2              97,219.37\n",
              "3             109,455.51\n",
              "Name: Total, dtype: float64"
            ]
          },
          "metadata": {},
          "execution_count": 233
        }
      ]
    },
    {
      "cell_type": "code",
      "metadata": {
        "id": "QhjdZsz8oPmS"
      },
      "source": [
        "#Vendas no Mês de Fevereiro\n",
        "vendas_fevereiro = df.loc[(df[\"Data\"].dt.year == 2019) & (df[\"Data\"].dt.month == 2)]"
      ],
      "execution_count": 234,
      "outputs": []
    },
    {
      "cell_type": "code",
      "metadata": {
        "colab": {
          "base_uri": "https://localhost:8080/",
          "height": 813
        },
        "id": "fFjqrCvgoS_w",
        "outputId": "0948fcc7-8111-4425-eee2-2d9647aab572"
      },
      "source": [
        "vendas_fevereiro"
      ],
      "execution_count": 235,
      "outputs": [
        {
          "output_type": "execute_result",
          "data": {
            "text/html": [
              "<div>\n",
              "<style scoped>\n",
              "    .dataframe tbody tr th:only-of-type {\n",
              "        vertical-align: middle;\n",
              "    }\n",
              "\n",
              "    .dataframe tbody tr th {\n",
              "        vertical-align: top;\n",
              "    }\n",
              "\n",
              "    .dataframe thead th {\n",
              "        text-align: right;\n",
              "    }\n",
              "</style>\n",
              "<table border=\"1\" class=\"dataframe\">\n",
              "  <thead>\n",
              "    <tr style=\"text-align: right;\">\n",
              "      <th></th>\n",
              "      <th>ID Fatura</th>\n",
              "      <th>Fatura</th>\n",
              "      <th>Cidade</th>\n",
              "      <th>Tipo Cliente</th>\n",
              "      <th>Gênero</th>\n",
              "      <th>Linha Produto</th>\n",
              "      <th>Preço Unit</th>\n",
              "      <th>Quantidade</th>\n",
              "      <th>Tax 5%</th>\n",
              "      <th>Total</th>\n",
              "      <th>Data</th>\n",
              "      <th>Tempo</th>\n",
              "      <th>Forma_Pagamento</th>\n",
              "      <th>cogs</th>\n",
              "      <th>Porcentagem Margem Bruta</th>\n",
              "      <th>Renda Bruta</th>\n",
              "      <th>Avaliação</th>\n",
              "      <th>Mes_Venda</th>\n",
              "      <th>Dia_Venda</th>\n",
              "      <th>Hora_Venda</th>\n",
              "      <th>Minuto_Venda</th>\n",
              "    </tr>\n",
              "  </thead>\n",
              "  <tbody>\n",
              "    <tr>\n",
              "      <th>4</th>\n",
              "      <td>373-73-7910</td>\n",
              "      <td>A</td>\n",
              "      <td>Yangon</td>\n",
              "      <td>Normal</td>\n",
              "      <td>Male</td>\n",
              "      <td>Sports and travel</td>\n",
              "      <td>86.31</td>\n",
              "      <td>7</td>\n",
              "      <td>30.21</td>\n",
              "      <td>634.38</td>\n",
              "      <td>2019-02-08</td>\n",
              "      <td>2021-08-27 10:37:00</td>\n",
              "      <td>Ewallet</td>\n",
              "      <td>604.17</td>\n",
              "      <td>4.76</td>\n",
              "      <td>30.21</td>\n",
              "      <td>5.30</td>\n",
              "      <td>2</td>\n",
              "      <td>8</td>\n",
              "      <td>10</td>\n",
              "      <td>37</td>\n",
              "    </tr>\n",
              "    <tr>\n",
              "      <th>6</th>\n",
              "      <td>355-53-5943</td>\n",
              "      <td>A</td>\n",
              "      <td>Yangon</td>\n",
              "      <td>Member</td>\n",
              "      <td>Female</td>\n",
              "      <td>Electronic accessories</td>\n",
              "      <td>68.84</td>\n",
              "      <td>6</td>\n",
              "      <td>20.65</td>\n",
              "      <td>433.69</td>\n",
              "      <td>2019-02-25</td>\n",
              "      <td>2021-08-27 14:36:00</td>\n",
              "      <td>Ewallet</td>\n",
              "      <td>413.04</td>\n",
              "      <td>4.76</td>\n",
              "      <td>20.65</td>\n",
              "      <td>5.80</td>\n",
              "      <td>2</td>\n",
              "      <td>25</td>\n",
              "      <td>14</td>\n",
              "      <td>36</td>\n",
              "    </tr>\n",
              "    <tr>\n",
              "      <th>7</th>\n",
              "      <td>315-22-5665</td>\n",
              "      <td>C</td>\n",
              "      <td>Naypyitaw</td>\n",
              "      <td>Normal</td>\n",
              "      <td>Female</td>\n",
              "      <td>Home and lifestyle</td>\n",
              "      <td>73.56</td>\n",
              "      <td>10</td>\n",
              "      <td>36.78</td>\n",
              "      <td>772.38</td>\n",
              "      <td>2019-02-24</td>\n",
              "      <td>2021-08-27 11:38:00</td>\n",
              "      <td>Ewallet</td>\n",
              "      <td>735.60</td>\n",
              "      <td>4.76</td>\n",
              "      <td>36.78</td>\n",
              "      <td>8.00</td>\n",
              "      <td>2</td>\n",
              "      <td>24</td>\n",
              "      <td>11</td>\n",
              "      <td>38</td>\n",
              "    </tr>\n",
              "    <tr>\n",
              "      <th>9</th>\n",
              "      <td>692-92-5582</td>\n",
              "      <td>B</td>\n",
              "      <td>Mandalay</td>\n",
              "      <td>Member</td>\n",
              "      <td>Female</td>\n",
              "      <td>Food and beverages</td>\n",
              "      <td>54.84</td>\n",
              "      <td>3</td>\n",
              "      <td>8.23</td>\n",
              "      <td>172.75</td>\n",
              "      <td>2019-02-20</td>\n",
              "      <td>2021-08-27 13:27:00</td>\n",
              "      <td>Credit card</td>\n",
              "      <td>164.52</td>\n",
              "      <td>4.76</td>\n",
              "      <td>8.23</td>\n",
              "      <td>5.90</td>\n",
              "      <td>2</td>\n",
              "      <td>20</td>\n",
              "      <td>13</td>\n",
              "      <td>27</td>\n",
              "    </tr>\n",
              "    <tr>\n",
              "      <th>10</th>\n",
              "      <td>351-62-0822</td>\n",
              "      <td>B</td>\n",
              "      <td>Mandalay</td>\n",
              "      <td>Member</td>\n",
              "      <td>Female</td>\n",
              "      <td>Fashion accessories</td>\n",
              "      <td>14.48</td>\n",
              "      <td>4</td>\n",
              "      <td>2.90</td>\n",
              "      <td>60.82</td>\n",
              "      <td>2019-02-06</td>\n",
              "      <td>2021-08-27 18:07:00</td>\n",
              "      <td>Ewallet</td>\n",
              "      <td>57.92</td>\n",
              "      <td>4.76</td>\n",
              "      <td>2.90</td>\n",
              "      <td>4.50</td>\n",
              "      <td>2</td>\n",
              "      <td>6</td>\n",
              "      <td>18</td>\n",
              "      <td>7</td>\n",
              "    </tr>\n",
              "    <tr>\n",
              "      <th>...</th>\n",
              "      <td>...</td>\n",
              "      <td>...</td>\n",
              "      <td>...</td>\n",
              "      <td>...</td>\n",
              "      <td>...</td>\n",
              "      <td>...</td>\n",
              "      <td>...</td>\n",
              "      <td>...</td>\n",
              "      <td>...</td>\n",
              "      <td>...</td>\n",
              "      <td>...</td>\n",
              "      <td>...</td>\n",
              "      <td>...</td>\n",
              "      <td>...</td>\n",
              "      <td>...</td>\n",
              "      <td>...</td>\n",
              "      <td>...</td>\n",
              "      <td>...</td>\n",
              "      <td>...</td>\n",
              "      <td>...</td>\n",
              "      <td>...</td>\n",
              "    </tr>\n",
              "    <tr>\n",
              "      <th>993</th>\n",
              "      <td>690-01-6631</td>\n",
              "      <td>B</td>\n",
              "      <td>Mandalay</td>\n",
              "      <td>Normal</td>\n",
              "      <td>Male</td>\n",
              "      <td>Fashion accessories</td>\n",
              "      <td>17.49</td>\n",
              "      <td>10</td>\n",
              "      <td>8.74</td>\n",
              "      <td>183.65</td>\n",
              "      <td>2019-02-22</td>\n",
              "      <td>2021-08-27 18:35:00</td>\n",
              "      <td>Ewallet</td>\n",
              "      <td>174.90</td>\n",
              "      <td>4.76</td>\n",
              "      <td>8.74</td>\n",
              "      <td>6.60</td>\n",
              "      <td>2</td>\n",
              "      <td>22</td>\n",
              "      <td>18</td>\n",
              "      <td>35</td>\n",
              "    </tr>\n",
              "    <tr>\n",
              "      <th>994</th>\n",
              "      <td>652-49-6720</td>\n",
              "      <td>C</td>\n",
              "      <td>Naypyitaw</td>\n",
              "      <td>Member</td>\n",
              "      <td>Female</td>\n",
              "      <td>Electronic accessories</td>\n",
              "      <td>60.95</td>\n",
              "      <td>1</td>\n",
              "      <td>3.05</td>\n",
              "      <td>64.00</td>\n",
              "      <td>2019-02-18</td>\n",
              "      <td>2021-08-27 11:40:00</td>\n",
              "      <td>Ewallet</td>\n",
              "      <td>60.95</td>\n",
              "      <td>4.76</td>\n",
              "      <td>3.05</td>\n",
              "      <td>5.90</td>\n",
              "      <td>2</td>\n",
              "      <td>18</td>\n",
              "      <td>11</td>\n",
              "      <td>40</td>\n",
              "    </tr>\n",
              "    <tr>\n",
              "      <th>997</th>\n",
              "      <td>727-02-1313</td>\n",
              "      <td>A</td>\n",
              "      <td>Yangon</td>\n",
              "      <td>Member</td>\n",
              "      <td>Male</td>\n",
              "      <td>Food and beverages</td>\n",
              "      <td>31.84</td>\n",
              "      <td>1</td>\n",
              "      <td>1.59</td>\n",
              "      <td>33.43</td>\n",
              "      <td>2019-02-09</td>\n",
              "      <td>2021-08-27 13:22:00</td>\n",
              "      <td>Cash</td>\n",
              "      <td>31.84</td>\n",
              "      <td>4.76</td>\n",
              "      <td>1.59</td>\n",
              "      <td>7.70</td>\n",
              "      <td>2</td>\n",
              "      <td>9</td>\n",
              "      <td>13</td>\n",
              "      <td>22</td>\n",
              "    </tr>\n",
              "    <tr>\n",
              "      <th>998</th>\n",
              "      <td>347-56-2442</td>\n",
              "      <td>A</td>\n",
              "      <td>Yangon</td>\n",
              "      <td>Normal</td>\n",
              "      <td>Male</td>\n",
              "      <td>Home and lifestyle</td>\n",
              "      <td>65.82</td>\n",
              "      <td>1</td>\n",
              "      <td>3.29</td>\n",
              "      <td>69.11</td>\n",
              "      <td>2019-02-22</td>\n",
              "      <td>2021-08-27 15:33:00</td>\n",
              "      <td>Cash</td>\n",
              "      <td>65.82</td>\n",
              "      <td>4.76</td>\n",
              "      <td>3.29</td>\n",
              "      <td>4.10</td>\n",
              "      <td>2</td>\n",
              "      <td>22</td>\n",
              "      <td>15</td>\n",
              "      <td>33</td>\n",
              "    </tr>\n",
              "    <tr>\n",
              "      <th>999</th>\n",
              "      <td>849-09-3807</td>\n",
              "      <td>A</td>\n",
              "      <td>Yangon</td>\n",
              "      <td>Member</td>\n",
              "      <td>Female</td>\n",
              "      <td>Fashion accessories</td>\n",
              "      <td>88.34</td>\n",
              "      <td>7</td>\n",
              "      <td>30.92</td>\n",
              "      <td>649.30</td>\n",
              "      <td>2019-02-18</td>\n",
              "      <td>2021-08-27 13:28:00</td>\n",
              "      <td>Cash</td>\n",
              "      <td>618.38</td>\n",
              "      <td>4.76</td>\n",
              "      <td>30.92</td>\n",
              "      <td>6.60</td>\n",
              "      <td>2</td>\n",
              "      <td>18</td>\n",
              "      <td>13</td>\n",
              "      <td>28</td>\n",
              "    </tr>\n",
              "  </tbody>\n",
              "</table>\n",
              "<p>303 rows × 21 columns</p>\n",
              "</div>"
            ],
            "text/plain": [
              "       ID Fatura Fatura     Cidade  ... Dia_Venda Hora_Venda Minuto_Venda\n",
              "4    373-73-7910      A     Yangon  ...         8         10           37\n",
              "6    355-53-5943      A     Yangon  ...        25         14           36\n",
              "7    315-22-5665      C  Naypyitaw  ...        24         11           38\n",
              "9    692-92-5582      B   Mandalay  ...        20         13           27\n",
              "10   351-62-0822      B   Mandalay  ...         6         18            7\n",
              "..           ...    ...        ...  ...       ...        ...          ...\n",
              "993  690-01-6631      B   Mandalay  ...        22         18           35\n",
              "994  652-49-6720      C  Naypyitaw  ...        18         11           40\n",
              "997  727-02-1313      A     Yangon  ...         9         13           22\n",
              "998  347-56-2442      A     Yangon  ...        22         15           33\n",
              "999  849-09-3807      A     Yangon  ...        18         13           28\n",
              "\n",
              "[303 rows x 21 columns]"
            ]
          },
          "metadata": {},
          "execution_count": 235
        }
      ]
    },
    {
      "cell_type": "code",
      "metadata": {
        "colab": {
          "base_uri": "https://localhost:8080/"
        },
        "id": "QrjtL3TDH9uk",
        "outputId": "2ba71ee3-2603-4ca6-a641-ec821df4ecbc"
      },
      "source": [
        "#Quantidade Total por Produto\n",
        "df[\"Linha Produto\"].value_counts(ascending=False)"
      ],
      "execution_count": 236,
      "outputs": [
        {
          "output_type": "execute_result",
          "data": {
            "text/plain": [
              "Fashion accessories       178\n",
              "Food and beverages        174\n",
              "Electronic accessories    170\n",
              "Sports and travel         166\n",
              "Home and lifestyle        160\n",
              "Health and beauty         152\n",
              "Name: Linha Produto, dtype: int64"
            ]
          },
          "metadata": {},
          "execution_count": 236
        }
      ]
    },
    {
      "cell_type": "code",
      "metadata": {
        "colab": {
          "base_uri": "https://localhost:8080/",
          "height": 366
        },
        "id": "pQS00ZuMIX9u",
        "outputId": "df8ddfff-6cdf-46fa-c61d-e5ab39e05b0f"
      },
      "source": [
        "#Gráfico por Produto\n",
        "df[\"Linha Produto\"].value_counts(ascending=False).plot.bar();"
      ],
      "execution_count": 237,
      "outputs": [
        {
          "output_type": "display_data",
          "data": {
            "image/png": "[encoded data removed]",
            "text/plain": [
              "<Figure size 432x288 with 1 Axes>"
            ]
          },
          "metadata": {
            "needs_background": "light"
          }
        }
      ]
    },
    {
      "cell_type": "code",
      "metadata": {
        "colab": {
          "base_uri": "https://localhost:8080/",
          "height": 248
        },
        "id": "ti20FBsVI-kg",
        "outputId": "0c8913c1-0105-4044-80f1-0188cfd3acaa"
      },
      "source": [
        "#Gráfico Total de compras por Gênero\n",
        "df.groupby(df[\"Gênero\"])[\"Total\"].sum().plot.pie();"
      ],
      "execution_count": 238,
      "outputs": [
        {
          "output_type": "display_data",
          "data": {
            "image/png": "[encoded data removed]",
            "text/plain": [
              "<Figure size 432x288 with 1 Axes>"
            ]
          },
          "metadata": {}
        }
      ]
    },
    {
      "cell_type": "code",
      "metadata": {
        "colab": {
          "base_uri": "https://localhost:8080/"
        },
        "id": "kUX3dtfiPAEs",
        "outputId": "bfa9a4ca-6b2f-4083-a1a6-5f21eb7d48df"
      },
      "source": [
        "#Total de Venda por Mês\n",
        "df.groupby(df[\"Mes_Venda\"])[\"Quantidade\"].sum()"
      ],
      "execution_count": 239,
      "outputs": [
        {
          "output_type": "execute_result",
          "data": {
            "text/plain": [
              "Mes_Venda\n",
              "1    1965\n",
              "2    1654\n",
              "3    1891\n",
              "Name: Quantidade, dtype: int64"
            ]
          },
          "metadata": {},
          "execution_count": 239
        }
      ]
    },
    {
      "cell_type": "code",
      "metadata": {
        "colab": {
          "base_uri": "https://localhost:8080/",
          "height": 279
        },
        "id": "0ifTSEVKPckG",
        "outputId": "f7a7c1ae-aa98-4684-f325-79c16aed70db"
      },
      "source": [
        "#Gráfico - Total de produtos vendidos por mês\n",
        "import matplotlib.pyplot as plt\n",
        "df.groupby(df[\"Mes_Venda\"])[\"Quantidade\"].sum().plot(marker = \"o\")\n",
        "plt.xlabel(\"Mês\")\n",
        "plt.ylabel(\"Total Produtos Vendidos\");\n",
        "plt.legend();"
      ],
      "execution_count": 240,
      "outputs": [
        {
          "output_type": "display_data",
          "data": {
            "image/png": "[encoded data removed]",
            "text/plain": [
              "<Figure size 432x288 with 1 Axes>"
            ]
          },
          "metadata": {
            "needs_background": "light"
          }
        }
      ]
    },
    {
      "cell_type": "code",
      "metadata": {
        "colab": {
          "base_uri": "https://localhost:8080/",
          "height": 265
        },
        "id": "pNGWRMLq5IG_",
        "outputId": "08a692db-f5f6-488d-8bcc-5d9a3eb8920a"
      },
      "source": [
        "#Visualizaçao do horário de venda\n",
        "plt.hist(df[\"Hora_Venda\"]);"
      ],
      "execution_count": 241,
      "outputs": [
        {
          "output_type": "display_data",
          "data": {
            "image/png": "[encoded data removed]",
            "text/plain": [
              "<Figure size 432x288 with 1 Axes>"
            ]
          },
          "metadata": {
            "needs_background": "light"
          }
        }
      ]
    },
    {
      "cell_type": "code",
      "metadata": {
        "colab": {
          "base_uri": "https://localhost:8080/",
          "height": 265
        },
        "id": "BlA9kNCbReie",
        "outputId": "fff599bf-c09c-48bf-ce25-d8e5dab0c262"
      },
      "source": [
        "#Visualização do Total de Vendas po Cidade\n",
        "plt.scatter(x=df[\"Cidade\"], y = df[\"Total\"]);"
      ],
      "execution_count": 242,
      "outputs": [
        {
          "output_type": "display_data",
          "data": {
            "image/png": "[encoded data removed]",
            "text/plain": [
              "<Figure size 432x288 with 1 Axes>"
            ]
          },
          "metadata": {
            "needs_background": "light"
          }
        }
      ]
    },
    {
      "cell_type": "code",
      "metadata": {
        "colab": {
          "base_uri": "https://localhost:8080/",
          "height": 265
        },
        "id": "_RlbO9azDUYH",
        "outputId": "a0507d2b-6b6d-4cdf-bb60-6281c85da72e"
      },
      "source": [
        "#Visualização do dias de venda\n",
        "plt.boxplot(df[\"Dia_Venda\"]);"
      ],
      "execution_count": 243,
      "outputs": [
        {
          "output_type": "display_data",
          "data": {
            "image/png": "[encoded data removed]",
            "text/plain": [
              "<Figure size 432x288 with 1 Axes>"
            ]
          },
          "metadata": {
            "needs_background": "light"
          }
        }
      ]
    },
    {
      "cell_type": "code",
      "metadata": {
        "colab": {
          "base_uri": "https://localhost:8080/",
          "height": 396
        },
        "id": "xKTuE_aYAa9M",
        "outputId": "9231cfcf-2ea6-49f0-f282-8b57b001fbeb"
      },
      "source": [
        "#Salvando em PNG po Produto Vendido\n",
        "df.groupby(df[\"Linha Produto\"])[\"Quantidade\"].sum().plot.bar(color=\"red\");\n",
        "plt.title(\"Quantidade de produtos mais vendidos\")\n",
        "plt.xlabel(\"Produto\")\n",
        "plt.ylabel(\"Total Produtos Vendidos\");\n",
        "plt.legend();\n",
        "plt.savefig(\"grafico_ProdutoxVendas.png\")"
      ],
      "execution_count": 244,
      "outputs": [
        {
          "output_type": "display_data",
          "data": {
            "image/png": "[encoded data removed]",
            "text/plain": [
              "<Figure size 432x288 with 1 Axes>"
            ]
          },
          "metadata": {
            "needs_background": "light"
          }
        }
      ]
    },
    {
      "cell_type": "code",
      "metadata": {
        "id": "ZV_sELUIEZ6D"
      },
      "source": [
        "#Salvando\n",
        "df.to_csv(\"Projeto_Pandas_Carrefour.csv\", index=False)"
      ],
      "execution_count": 245,
      "outputs": []
    }
  ]
}